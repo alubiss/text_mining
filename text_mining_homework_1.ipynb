{
 "cells": [
  {
   "cell_type": "code",
   "execution_count": 1,
   "metadata": {},
   "outputs": [
    {
     "name": "stderr",
     "output_type": "stream",
     "text": [
      "[nltk_data] Downloading package stopwords to\n",
      "[nltk_data]     /Users/alubis/nltk_data...\n",
      "[nltk_data]   Package stopwords is already up-to-date!\n",
      "[nltk_data] Downloading package punkt to /Users/alubis/nltk_data...\n",
      "[nltk_data]   Package punkt is already up-to-date!\n"
     ]
    }
   ],
   "source": [
    "import pandas as pd\n",
    "import numpy as np\n",
    "import re\n",
    "import nltk.corpus\n",
    "from nltk.corpus import stopwords \n",
    "nltk.download('stopwords')\n",
    "from nltk.tokenize import word_tokenize \n",
    "nltk.download('punkt')\n",
    "from nltk.stem import PorterStemmer \n",
    "from textblob import TextBlob\n",
    "from textblob.sentiments import NaiveBayesAnalyzer\n",
    "from sklearn.model_selection import StratifiedShuffleSplit\n",
    "import nltk\n",
    "#nltk.download()\n",
    "from sklearn.decomposition import LatentDirichletAllocation\n",
    "from sklearn.feature_extraction.text import CountVectorizer\n",
    "from sklearn.decomposition import LatentDirichletAllocation\n",
    "import random\n",
    "from wordcloud import WordCloud\n",
    "from sklearn.decomposition import NMF"
   ]
  },
  {
   "cell_type": "markdown",
   "metadata": {},
   "source": [
    "Exploiting text comes down to extracting specific information from large text files and text files and processing them. Finding patterns is done by creating ranking, clustering, summarizing, and linking searches. The purpose of this notebook is to analyze book reviews of various genres and to identify among them possible factors that influenced whether the reviewer's opinion was positive or negative. This will allow us to create a profile of the consumer, which will make it easier to understand their interests and preferences."
   ]
  },
  {
   "cell_type": "markdown",
   "metadata": {},
   "source": [
    "Data\n",
    "The data needed for the study came from goodreads.com and steamboatbooks.com. The collected database contains 51,000 reviews on 363 different books. Among them are 20 genres (thriller, science-fiction, etc.). We also have knowledge about the average rating given by reviewers, the number of pages of the book and some additional features available on the website."
   ]
  },
  {
   "cell_type": "markdown",
   "metadata": {},
   "source": [
    "Theses reviews were scraped by us from goodreads.com. The first step was to evaluate whether the review was positive or negative. For this, the TextBlob library was used."
   ]
  },
  {
   "cell_type": "code",
   "execution_count": 2,
   "metadata": {},
   "outputs": [],
   "source": [
    "#dane = pd.read_excel('dane.xlsx')\n",
    "#opinie=[]\n",
    "#for item in dane.recenzja:\n",
    "#    analysis = TextBlob(item, analyzer=NaiveBayesAnalyzer())\n",
    "#    opinie.append(analysis.sentiment.classification)\n",
    "#opinie\n",
    "#dane['opinia'] = opinie\n",
    "#dane.to_excel('dane.xlsx', index = False)"
   ]
  },
  {
   "cell_type": "code",
   "execution_count": 3,
   "metadata": {},
   "outputs": [],
   "source": [
    "dane = pd.read_excel('dane.xlsx')"
   ]
  },
  {
   "cell_type": "code",
   "execution_count": 4,
   "metadata": {},
   "outputs": [],
   "source": [
    "wektor = dane[\"recenzja\"]"
   ]
  },
  {
   "cell_type": "markdown",
   "metadata": {},
   "source": [
    "1. Cleaning.\n",
    "For more detailed text analysis, the data will be cleared using regular expressions/"
   ]
  },
  {
   "cell_type": "code",
   "execution_count": 5,
   "metadata": {},
   "outputs": [],
   "source": [
    "url_patterns = r'(www.|http[s]?://)(?:[a-zA-Z]|[0-9]|[$-_@.&+]|[!*\\(\\),]|(?:%[0-9a-fA-F][0-9a-fA-F]))+'\n",
    "html_patterns = r'<.*?>|&([a-z0-9]+|#[0-9]{1,6}|#x[0-9a-f]{1,6});'\n",
    "n_patterns = r'\\n'\n",
    "\n",
    "wektor=[re.sub(url_patterns, '', el) for el in wektor]\n",
    "wektor=[re.sub(html_patterns, '', el) for el in wektor]\n",
    "wektor=[re.sub(n_patterns, '', el) for el in wektor]\n",
    "wektor=[re.sub('[^a-zA-Z0-9 \\n\\.]', '', el) for el in wektor]\n",
    "# unnecessary spaces\n",
    "wektor=[re.sub(' +', ' ', el) for el in wektor]\n",
    "wektor=[re.sub('[.]', '', el) for el in wektor]\n",
    "wektor=[el.lower() for el in wektor]"
   ]
  },
  {
   "cell_type": "code",
   "execution_count": 6,
   "metadata": {},
   "outputs": [
    {
     "name": "stdout",
     "output_type": "stream",
     "text": [
      "Mean:  3.171490196078431 Max:  58\n"
     ]
    }
   ],
   "source": [
    "def find_count(word: str, pattern: str) -> int:\n",
    "    return len(re.findall(pattern, word.lower()))\n",
    "a = dane['recenzja'].apply(find_count, pattern='book').mean()\n",
    "b = dane['recenzja'].apply(find_count, pattern='book').max()\n",
    "print('Mean: ', a, 'Max: ', b)"
   ]
  },
  {
   "cell_type": "markdown",
   "metadata": {},
   "source": [
    "The word 'book' appears on average 3 times in each review. In extreme cases, even 58. As this term does not make any sense at any stage of the analysis, we will also eliminate it."
   ]
  },
  {
   "cell_type": "code",
   "execution_count": 7,
   "metadata": {},
   "outputs": [],
   "source": [
    "# book and books \n",
    "wektor=[re.sub('book', '', el) for el in wektor]\n",
    "wektor=[re.sub('books', '', el) for el in wektor]\n",
    "dane['wektor'] = wektor"
   ]
  },
  {
   "cell_type": "code",
   "execution_count": 8,
   "metadata": {},
   "outputs": [],
   "source": [
    "a = dane.groupby('rodzaj')['rodzaj'].count().rename(\"N\")\n",
    "c = dane.groupby('opinia')['opinia'].count().rename(\"N\")"
   ]
  },
  {
   "cell_type": "code",
   "execution_count": 9,
   "metadata": {},
   "outputs": [],
   "source": [
    "my_list=['difficult', 'nice', 'interesting', 'boring']\n",
    "for word in my_list:\n",
    "    def count_words(opinia):\n",
    "        list_words = re.findall(word,opinia)\n",
    "        if list_words:\n",
    "            return 1\n",
    "        return 0\n",
    "    dane[str(word)] = dane['wektor'].apply(count_words)\n",
    "    b = dane.groupby('rodzaj')[str(word)].sum()\n",
    "    frames = [a,b]\n",
    "    a = pd.concat(frames, axis=1)\n",
    "    a[str(word)]=a[str(word)]/a['N']*100\n",
    "    d = dane.groupby('opinia')[str(word)].sum()\n",
    "    frames2 = [c,d]\n",
    "    c = pd.concat(frames2, axis=1)\n",
    "    c[str(word)]=c[str(word)]/c['N']*100"
   ]
  },
  {
   "cell_type": "code",
   "execution_count": 10,
   "metadata": {},
   "outputs": [
    {
     "data": {
      "text/html": [
       "<div>\n",
       "<style scoped>\n",
       "    .dataframe tbody tr th:only-of-type {\n",
       "        vertical-align: middle;\n",
       "    }\n",
       "\n",
       "    .dataframe tbody tr th {\n",
       "        vertical-align: top;\n",
       "    }\n",
       "\n",
       "    .dataframe thead th {\n",
       "        text-align: right;\n",
       "    }\n",
       "</style>\n",
       "<table border=\"1\" class=\"dataframe\">\n",
       "  <thead>\n",
       "    <tr style=\"text-align: right;\">\n",
       "      <th></th>\n",
       "      <th>N</th>\n",
       "      <th>difficult</th>\n",
       "      <th>nice</th>\n",
       "      <th>interesting</th>\n",
       "      <th>boring</th>\n",
       "    </tr>\n",
       "    <tr>\n",
       "      <th>rodzaj</th>\n",
       "      <th></th>\n",
       "      <th></th>\n",
       "      <th></th>\n",
       "      <th></th>\n",
       "      <th></th>\n",
       "    </tr>\n",
       "  </thead>\n",
       "  <tbody>\n",
       "    <tr>\n",
       "      <th>science_technology</th>\n",
       "      <td>1650</td>\n",
       "      <td>4.909091</td>\n",
       "      <td>3.212121</td>\n",
       "      <td>24.606061</td>\n",
       "      <td>2.060606</td>\n",
       "    </tr>\n",
       "    <tr>\n",
       "      <th>science_fiction</th>\n",
       "      <td>3000</td>\n",
       "      <td>3.800000</td>\n",
       "      <td>5.100000</td>\n",
       "      <td>18.900000</td>\n",
       "      <td>4.233333</td>\n",
       "    </tr>\n",
       "    <tr>\n",
       "      <th>biography</th>\n",
       "      <td>3000</td>\n",
       "      <td>6.633333</td>\n",
       "      <td>3.000000</td>\n",
       "      <td>18.233333</td>\n",
       "      <td>1.966667</td>\n",
       "    </tr>\n",
       "    <tr>\n",
       "      <th>cookbooks</th>\n",
       "      <td>450</td>\n",
       "      <td>2.666667</td>\n",
       "      <td>3.111111</td>\n",
       "      <td>14.444444</td>\n",
       "      <td>0.888889</td>\n",
       "    </tr>\n",
       "    <tr>\n",
       "      <th>fantasy</th>\n",
       "      <td>2850</td>\n",
       "      <td>5.438596</td>\n",
       "      <td>6.280702</td>\n",
       "      <td>14.105263</td>\n",
       "      <td>3.087719</td>\n",
       "    </tr>\n",
       "    <tr>\n",
       "      <th>thriller</th>\n",
       "      <td>3450</td>\n",
       "      <td>4.608696</td>\n",
       "      <td>4.869565</td>\n",
       "      <td>13.913043</td>\n",
       "      <td>2.782609</td>\n",
       "    </tr>\n",
       "    <tr>\n",
       "      <th>horror</th>\n",
       "      <td>2700</td>\n",
       "      <td>3.444444</td>\n",
       "      <td>6.074074</td>\n",
       "      <td>13.259259</td>\n",
       "      <td>2.851852</td>\n",
       "    </tr>\n",
       "    <tr>\n",
       "      <th>debut_author</th>\n",
       "      <td>1050</td>\n",
       "      <td>4.857143</td>\n",
       "      <td>6.380952</td>\n",
       "      <td>13.238095</td>\n",
       "      <td>5.238095</td>\n",
       "    </tr>\n",
       "    <tr>\n",
       "      <th>nonfiction</th>\n",
       "      <td>2400</td>\n",
       "      <td>5.416667</td>\n",
       "      <td>3.291667</td>\n",
       "      <td>12.666667</td>\n",
       "      <td>1.708333</td>\n",
       "    </tr>\n",
       "    <tr>\n",
       "      <th>best_of_the_best</th>\n",
       "      <td>2250</td>\n",
       "      <td>5.955556</td>\n",
       "      <td>7.111111</td>\n",
       "      <td>12.533333</td>\n",
       "      <td>6.444444</td>\n",
       "    </tr>\n",
       "    <tr>\n",
       "      <th>historical_fiction</th>\n",
       "      <td>3150</td>\n",
       "      <td>6.730159</td>\n",
       "      <td>3.206349</td>\n",
       "      <td>12.507937</td>\n",
       "      <td>1.841270</td>\n",
       "    </tr>\n",
       "    <tr>\n",
       "      <th>fiction</th>\n",
       "      <td>3750</td>\n",
       "      <td>9.093333</td>\n",
       "      <td>3.120000</td>\n",
       "      <td>11.653333</td>\n",
       "      <td>2.453333</td>\n",
       "    </tr>\n",
       "    <tr>\n",
       "      <th>humor</th>\n",
       "      <td>2400</td>\n",
       "      <td>2.500000</td>\n",
       "      <td>3.291667</td>\n",
       "      <td>10.583333</td>\n",
       "      <td>1.708333</td>\n",
       "    </tr>\n",
       "    <tr>\n",
       "      <th>autobiography</th>\n",
       "      <td>2850</td>\n",
       "      <td>9.754386</td>\n",
       "      <td>1.964912</td>\n",
       "      <td>9.578947</td>\n",
       "      <td>0.842105</td>\n",
       "    </tr>\n",
       "    <tr>\n",
       "      <th>young_adult_fiction</th>\n",
       "      <td>2850</td>\n",
       "      <td>4.631579</td>\n",
       "      <td>6.947368</td>\n",
       "      <td>8.596491</td>\n",
       "      <td>2.947368</td>\n",
       "    </tr>\n",
       "    <tr>\n",
       "      <th>romance</th>\n",
       "      <td>2850</td>\n",
       "      <td>3.368421</td>\n",
       "      <td>5.859649</td>\n",
       "      <td>8.000000</td>\n",
       "      <td>2.842105</td>\n",
       "    </tr>\n",
       "    <tr>\n",
       "      <th>childrens</th>\n",
       "      <td>2850</td>\n",
       "      <td>3.859649</td>\n",
       "      <td>5.263158</td>\n",
       "      <td>6.947368</td>\n",
       "      <td>1.614035</td>\n",
       "    </tr>\n",
       "    <tr>\n",
       "      <th>novels</th>\n",
       "      <td>2700</td>\n",
       "      <td>2.074074</td>\n",
       "      <td>4.000000</td>\n",
       "      <td>6.259259</td>\n",
       "      <td>0.666667</td>\n",
       "    </tr>\n",
       "    <tr>\n",
       "      <th>poetry</th>\n",
       "      <td>2400</td>\n",
       "      <td>2.416667</td>\n",
       "      <td>3.375000</td>\n",
       "      <td>3.416667</td>\n",
       "      <td>0.458333</td>\n",
       "    </tr>\n",
       "    <tr>\n",
       "      <th>picture_books</th>\n",
       "      <td>2400</td>\n",
       "      <td>2.083333</td>\n",
       "      <td>3.833333</td>\n",
       "      <td>2.333333</td>\n",
       "      <td>0.583333</td>\n",
       "    </tr>\n",
       "  </tbody>\n",
       "</table>\n",
       "</div>"
      ],
      "text/plain": [
       "                        N  difficult      nice  interesting    boring\n",
       "rodzaj                                                               \n",
       "science_technology   1650   4.909091  3.212121    24.606061  2.060606\n",
       "science_fiction      3000   3.800000  5.100000    18.900000  4.233333\n",
       "biography            3000   6.633333  3.000000    18.233333  1.966667\n",
       "cookbooks             450   2.666667  3.111111    14.444444  0.888889\n",
       "fantasy              2850   5.438596  6.280702    14.105263  3.087719\n",
       "thriller             3450   4.608696  4.869565    13.913043  2.782609\n",
       "horror               2700   3.444444  6.074074    13.259259  2.851852\n",
       "debut_author         1050   4.857143  6.380952    13.238095  5.238095\n",
       "nonfiction           2400   5.416667  3.291667    12.666667  1.708333\n",
       "best_of_the_best     2250   5.955556  7.111111    12.533333  6.444444\n",
       "historical_fiction   3150   6.730159  3.206349    12.507937  1.841270\n",
       "fiction              3750   9.093333  3.120000    11.653333  2.453333\n",
       "humor                2400   2.500000  3.291667    10.583333  1.708333\n",
       "autobiography        2850   9.754386  1.964912     9.578947  0.842105\n",
       "young_adult_fiction  2850   4.631579  6.947368     8.596491  2.947368\n",
       "romance              2850   3.368421  5.859649     8.000000  2.842105\n",
       "childrens            2850   3.859649  5.263158     6.947368  1.614035\n",
       "novels               2700   2.074074  4.000000     6.259259  0.666667\n",
       "poetry               2400   2.416667  3.375000     3.416667  0.458333\n",
       "picture_books        2400   2.083333  3.833333     2.333333  0.583333"
      ]
     },
     "execution_count": 10,
     "metadata": {},
     "output_type": "execute_result"
    }
   ],
   "source": [
    "a.sort_values(by=['interesting'], ascending=False)"
   ]
  },
  {
   "cell_type": "code",
   "execution_count": 11,
   "metadata": {},
   "outputs": [
    {
     "data": {
      "text/html": [
       "<div>\n",
       "<style scoped>\n",
       "    .dataframe tbody tr th:only-of-type {\n",
       "        vertical-align: middle;\n",
       "    }\n",
       "\n",
       "    .dataframe tbody tr th {\n",
       "        vertical-align: top;\n",
       "    }\n",
       "\n",
       "    .dataframe thead th {\n",
       "        text-align: right;\n",
       "    }\n",
       "</style>\n",
       "<table border=\"1\" class=\"dataframe\">\n",
       "  <thead>\n",
       "    <tr style=\"text-align: right;\">\n",
       "      <th></th>\n",
       "      <th>N</th>\n",
       "      <th>difficult</th>\n",
       "      <th>nice</th>\n",
       "      <th>interesting</th>\n",
       "      <th>boring</th>\n",
       "    </tr>\n",
       "    <tr>\n",
       "      <th>opinia</th>\n",
       "      <th></th>\n",
       "      <th></th>\n",
       "      <th></th>\n",
       "      <th></th>\n",
       "      <th></th>\n",
       "    </tr>\n",
       "  </thead>\n",
       "  <tbody>\n",
       "    <tr>\n",
       "      <th>pos</th>\n",
       "      <td>46375</td>\n",
       "      <td>5.375741</td>\n",
       "      <td>4.718059</td>\n",
       "      <td>12.045283</td>\n",
       "      <td>2.074394</td>\n",
       "    </tr>\n",
       "    <tr>\n",
       "      <th>neg</th>\n",
       "      <td>4625</td>\n",
       "      <td>0.605405</td>\n",
       "      <td>1.902703</td>\n",
       "      <td>6.486486</td>\n",
       "      <td>5.037838</td>\n",
       "    </tr>\n",
       "  </tbody>\n",
       "</table>\n",
       "</div>"
      ],
      "text/plain": [
       "            N  difficult      nice  interesting    boring\n",
       "opinia                                                   \n",
       "pos     46375   5.375741  4.718059    12.045283  2.074394\n",
       "neg      4625   0.605405  1.902703     6.486486  5.037838"
      ]
     },
     "execution_count": 11,
     "metadata": {},
     "output_type": "execute_result"
    }
   ],
   "source": [
    "c.sort_values(by=['interesting'], ascending=False)"
   ]
  },
  {
   "cell_type": "markdown",
   "metadata": {},
   "source": [
    "2. English stopwords\n",
    "Some of the words can not be useful or bring any valuable information in text analysis, but they will occur frequently. In this step, we will get rid of such words by using stop words from the English language."
   ]
  },
  {
   "cell_type": "code",
   "execution_count": 12,
   "metadata": {},
   "outputs": [],
   "source": [
    "wektor = dane[\"wektor\"][dane[\"rodzaj\"]=='poetry']"
   ]
  },
  {
   "cell_type": "code",
   "execution_count": 13,
   "metadata": {},
   "outputs": [],
   "source": [
    "one_text= ' '.join(wektor)\n",
    "stop_words = set(stopwords.words('english')) \n",
    "word_tokens = word_tokenize(one_text) \n",
    "\n",
    "filtered_sentence = [w for w in word_tokens if not w in stop_words] \n",
    "filtered_sentence = [] \n",
    "  \n",
    "for w in word_tokens: \n",
    "    if w not in stop_words: \n",
    "        filtered_sentence.append(w) "
   ]
  },
  {
   "cell_type": "markdown",
   "metadata": {},
   "source": [
    "3. Stemming \n",
    "We want to reduce inflectional forms and derivationally related forms of a word to a common base form, so we will use stemming and lemmatization."
   ]
  },
  {
   "cell_type": "code",
   "execution_count": 14,
   "metadata": {},
   "outputs": [],
   "source": [
    "ps = PorterStemmer()  \n",
    "words = word_tokenize(one_text) "
   ]
  },
  {
   "cell_type": "code",
   "execution_count": 15,
   "metadata": {},
   "outputs": [
    {
     "name": "stderr",
     "output_type": "stream",
     "text": [
      "IOPub data rate exceeded.\n",
      "The notebook server will temporarily stop sending output\n",
      "to the client in order to avoid crashing it.\n",
      "To change this limit, set the config variable\n",
      "`--NotebookApp.iopub_data_rate_limit`.\n",
      "\n",
      "Current values:\n",
      "NotebookApp.iopub_data_rate_limit=1000000.0 (bytes/sec)\n",
      "NotebookApp.rate_limit_window=3.0 (secs)\n",
      "\n"
     ]
    }
   ],
   "source": [
    "wordlist = one_text.split()\n",
    "\n",
    "wordfreq = []\n",
    "for w in wordlist:\n",
    "    wordfreq.append(wordlist.count(w))\n",
    "\n",
    "#print(\"List\\n\" + str(wordlist) + \"\\n\")\n",
    "#print(\"Frequencies\\n\" + str(wordfreq) + \"\\n\")\n",
    "print(\"Pairs\\n\" + str(list(zip(wordlist, wordfreq))))"
   ]
  },
  {
   "cell_type": "code",
   "execution_count": 16,
   "metadata": {},
   "outputs": [],
   "source": [
    "wektor=dane[\"wektor\"]\n",
    "wektor=[re.sub('dont', '', el) for el in wektor]\n",
    "wektor=[re.sub('didnt', '', el) for el in wektor]\n",
    "wektor=[re.sub('read', '', el) for el in wektor]\n",
    "wektor=[re.sub('story', '', el) for el in wektor]\n",
    "wektor=[re.sub('like', '', el) for el in wektor]\n",
    "dane[\"wektor\"]=wektor"
   ]
  },
  {
   "cell_type": "markdown",
   "metadata": {},
   "source": [
    "Now we can accurately compare what words occur most frequently in reviews by book type."
   ]
  },
  {
   "cell_type": "code",
   "execution_count": 17,
   "metadata": {},
   "outputs": [],
   "source": [
    "# split into train and test subsets\n",
    "split = StratifiedShuffleSplit(n_splits=5, test_size=0.3, random_state=123)\n",
    "for train_index, test_index in split.split(dane,dane[\"opinia\"]): \n",
    "    strat_train = dane.reindex(train_index)\n",
    "    strat_test = dane.reindex(test_index)"
   ]
  },
  {
   "cell_type": "code",
   "execution_count": 18,
   "metadata": {},
   "outputs": [],
   "source": [
    "# prepare data for the model\n",
    "X_train = strat_train\n",
    "y_train = strat_train[\"opinia\"]\n",
    "X_test = strat_test\n",
    "y_test = strat_test[\"opinia\"]"
   ]
  },
  {
   "cell_type": "code",
   "execution_count": 19,
   "metadata": {},
   "outputs": [
    {
     "data": {
      "text/plain": [
       "32463"
      ]
     },
     "execution_count": 19,
     "metadata": {},
     "output_type": "execute_result"
    }
   ],
   "source": [
    "len(X_train[X_train['opinia']=='pos'])"
   ]
  },
  {
   "cell_type": "markdown",
   "metadata": {},
   "source": [
    "Topic modeling\n",
    "Another thing we can check is if we can determine the type of book based on the book review and if the results will be close to the actual genre of the book."
   ]
  },
  {
   "cell_type": "code",
   "execution_count": 20,
   "metadata": {},
   "outputs": [],
   "source": [
    "# the vectorizer object will be used to transform text to vector form\n",
    "vectorizer = CountVectorizer(max_df=0.9, min_df=25, token_pattern='\\w+|\\$[\\d\\.]+|\\S+', stop_words = 'english')\n",
    "\n",
    "# apply transformation\n",
    "vec = vectorizer.fit_transform(X_train['wektor']).toarray()\n",
    "\n",
    "# tf_feature_names tells us what word each column in the matric represents\n",
    "feature_names = vectorizer.get_feature_names()"
   ]
  },
  {
   "cell_type": "code",
   "execution_count": 21,
   "metadata": {},
   "outputs": [],
   "source": [
    "# let us assume 10 topics\n",
    "number_of_topics = 10\n",
    "\n",
    "# define the random state so that this model is reproducible\n",
    "model = LatentDirichletAllocation(n_components=number_of_topics, random_state=0)"
   ]
  },
  {
   "cell_type": "code",
   "execution_count": 22,
   "metadata": {},
   "outputs": [
    {
     "data": {
      "text/plain": [
       "LatentDirichletAllocation(random_state=0)"
      ]
     },
     "execution_count": 22,
     "metadata": {},
     "output_type": "execute_result"
    }
   ],
   "source": [
    "# take a look at the output\n",
    "def display_topics(model, feature_names, no_top_words):\n",
    "    topic_dict = {}\n",
    "    for topic_idx, topic in enumerate(model.components_):\n",
    "        topic_dict[\"Topic %d words\" % (topic_idx)]= ['{}'.format(feature_names[i])\n",
    "                        for i in topic.argsort()[:-no_top_words - 1:-1]]\n",
    "        topic_dict[\"Topic %d weights\" % (topic_idx)]= ['{:.1f}'.format(topic[i])\n",
    "                        for i in topic.argsort()[:-no_top_words - 1:-1]]\n",
    "    return pd.DataFrame(topic_dict)\n",
    "\n",
    "model.fit(vec)"
   ]
  },
  {
   "cell_type": "code",
   "execution_count": 23,
   "metadata": {},
   "outputs": [
    {
     "data": {
      "text/html": [
       "<div>\n",
       "<style scoped>\n",
       "    .dataframe tbody tr th:only-of-type {\n",
       "        vertical-align: middle;\n",
       "    }\n",
       "\n",
       "    .dataframe tbody tr th {\n",
       "        vertical-align: top;\n",
       "    }\n",
       "\n",
       "    .dataframe thead th {\n",
       "        text-align: right;\n",
       "    }\n",
       "</style>\n",
       "<table border=\"1\" class=\"dataframe\">\n",
       "  <thead>\n",
       "    <tr style=\"text-align: right;\">\n",
       "      <th></th>\n",
       "      <th>Topic 0 words</th>\n",
       "      <th>Topic 0 weights</th>\n",
       "      <th>Topic 1 words</th>\n",
       "      <th>Topic 1 weights</th>\n",
       "      <th>Topic 2 words</th>\n",
       "      <th>Topic 2 weights</th>\n",
       "      <th>Topic 3 words</th>\n",
       "      <th>Topic 3 weights</th>\n",
       "      <th>Topic 4 words</th>\n",
       "      <th>Topic 4 weights</th>\n",
       "      <th>Topic 5 words</th>\n",
       "      <th>Topic 5 weights</th>\n",
       "      <th>Topic 6 words</th>\n",
       "      <th>Topic 6 weights</th>\n",
       "      <th>Topic 7 words</th>\n",
       "      <th>Topic 7 weights</th>\n",
       "      <th>Topic 8 words</th>\n",
       "      <th>Topic 8 weights</th>\n",
       "      <th>Topic 9 words</th>\n",
       "      <th>Topic 9 weights</th>\n",
       "    </tr>\n",
       "  </thead>\n",
       "  <tbody>\n",
       "    <tr>\n",
       "      <th>0</th>\n",
       "      <td>characters</td>\n",
       "      <td>8598.7</td>\n",
       "      <td>people</td>\n",
       "      <td>4568.7</td>\n",
       "      <td>e</td>\n",
       "      <td>1789.8</td>\n",
       "      <td>que</td>\n",
       "      <td>5952.1</td>\n",
       "      <td>just</td>\n",
       "      <td>12691.3</td>\n",
       "      <td>family</td>\n",
       "      <td>4035.3</td>\n",
       "      <td>die</td>\n",
       "      <td>1322.9</td>\n",
       "      <td>life</td>\n",
       "      <td>3161.5</td>\n",
       "      <td>love</td>\n",
       "      <td>9893.5</td>\n",
       "      <td>life</td>\n",
       "      <td>2830.7</td>\n",
       "    </tr>\n",
       "    <tr>\n",
       "      <th>1</th>\n",
       "      <td>really</td>\n",
       "      <td>6516.8</td>\n",
       "      <td>hi</td>\n",
       "      <td>3124.6</td>\n",
       "      <td>di</td>\n",
       "      <td>1323.8</td>\n",
       "      <td>y</td>\n",
       "      <td>3685.7</td>\n",
       "      <td>im</td>\n",
       "      <td>8879.6</td>\n",
       "      <td>novel</td>\n",
       "      <td>3421.1</td>\n",
       "      <td>und</td>\n",
       "      <td>1069.1</td>\n",
       "      <td>family</td>\n",
       "      <td>2294.8</td>\n",
       "      <td>just</td>\n",
       "      <td>6929.6</td>\n",
       "      <td>memoir</td>\n",
       "      <td>1432.4</td>\n",
       "    </tr>\n",
       "    <tr>\n",
       "      <th>2</th>\n",
       "      <td>just</td>\n",
       "      <td>5613.0</td>\n",
       "      <td>war</td>\n",
       "      <td>2881.9</td>\n",
       "      <td>che</td>\n",
       "      <td>920.1</td>\n",
       "      <td>la</td>\n",
       "      <td>3340.5</td>\n",
       "      <td>love</td>\n",
       "      <td>7865.3</td>\n",
       "      <td>love</td>\n",
       "      <td>3186.4</td>\n",
       "      <td>words</td>\n",
       "      <td>1007.9</td>\n",
       "      <td>time</td>\n",
       "      <td>2138.6</td>\n",
       "      <td>really</td>\n",
       "      <td>6565.6</td>\n",
       "      <td>trump</td>\n",
       "      <td>1374.5</td>\n",
       "    </tr>\n",
       "    <tr>\n",
       "      <th>3</th>\n",
       "      <td>s</td>\n",
       "      <td>5250.8</td>\n",
       "      <td>women</td>\n",
       "      <td>2535.8</td>\n",
       "      <td>la</td>\n",
       "      <td>905.5</td>\n",
       "      <td>en</td>\n",
       "      <td>2641.1</td>\n",
       "      <td>really</td>\n",
       "      <td>7358.3</td>\n",
       "      <td>life</td>\n",
       "      <td>2962.8</td>\n",
       "      <td>stories</td>\n",
       "      <td>803.2</td>\n",
       "      <td>world</td>\n",
       "      <td>1998.8</td>\n",
       "      <td>loved</td>\n",
       "      <td>4760.5</td>\n",
       "      <td>did</td>\n",
       "      <td>1258.5</td>\n",
       "    </tr>\n",
       "    <tr>\n",
       "      <th>4</th>\n",
       "      <td>novel</td>\n",
       "      <td>4409.8</td>\n",
       "      <td>world</td>\n",
       "      <td>2266.3</td>\n",
       "      <td>non</td>\n",
       "      <td>721.0</td>\n",
       "      <td>el</td>\n",
       "      <td>1980.0</td>\n",
       "      <td>know</td>\n",
       "      <td>6455.8</td>\n",
       "      <td>time</td>\n",
       "      <td>2789.1</td>\n",
       "      <td>rose</td>\n",
       "      <td>761.1</td>\n",
       "      <td>school</td>\n",
       "      <td>1644.1</td>\n",
       "      <td>think</td>\n",
       "      <td>4499.9</td>\n",
       "      <td>time</td>\n",
       "      <td>1220.0</td>\n",
       "    </tr>\n",
       "    <tr>\n",
       "      <th>5</th>\n",
       "      <td>series</td>\n",
       "      <td>4385.5</td>\n",
       "      <td>life</td>\n",
       "      <td>1923.2</td>\n",
       "      <td>je</td>\n",
       "      <td>705.3</td>\n",
       "      <td>es</td>\n",
       "      <td>1743.6</td>\n",
       "      <td>s</td>\n",
       "      <td>5066.5</td>\n",
       "      <td>characters</td>\n",
       "      <td>2412.0</td>\n",
       "      <td>world</td>\n",
       "      <td>738.5</td>\n",
       "      <td>people</td>\n",
       "      <td>1510.9</td>\n",
       "      <td>im</td>\n",
       "      <td>4094.2</td>\n",
       "      <td>years</td>\n",
       "      <td>1196.8</td>\n",
       "    </tr>\n",
       "    <tr>\n",
       "      <th>6</th>\n",
       "      <td>good</td>\n",
       "      <td>4250.6</td>\n",
       "      <td>time</td>\n",
       "      <td>1611.6</td>\n",
       "      <td>si</td>\n",
       "      <td>684.9</td>\n",
       "      <td>una</td>\n",
       "      <td>1270.7</td>\n",
       "      <td>loved</td>\n",
       "      <td>4941.2</td>\n",
       "      <td>just</td>\n",
       "      <td>2058.1</td>\n",
       "      <td>der</td>\n",
       "      <td>708.1</td>\n",
       "      <td>human</td>\n",
       "      <td>1464.4</td>\n",
       "      <td>life</td>\n",
       "      <td>4056.1</td>\n",
       "      <td>man</td>\n",
       "      <td>1152.1</td>\n",
       "    </tr>\n",
       "    <tr>\n",
       "      <th>7</th>\n",
       "      <td>character</td>\n",
       "      <td>4097.1</td>\n",
       "      <td>men</td>\n",
       "      <td>1512.3</td>\n",
       "      <td>il</td>\n",
       "      <td>638.1</td>\n",
       "      <td>se</td>\n",
       "      <td>1237.8</td>\n",
       "      <td>characters</td>\n",
       "      <td>4901.5</td>\n",
       "      <td>woman</td>\n",
       "      <td>2001.5</td>\n",
       "      <td>magic</td>\n",
       "      <td>615.6</td>\n",
       "      <td>new</td>\n",
       "      <td>1369.0</td>\n",
       "      <td>s</td>\n",
       "      <td>4040.2</td>\n",
       "      <td>people</td>\n",
       "      <td>1078.4</td>\n",
       "    </tr>\n",
       "    <tr>\n",
       "      <th>8</th>\n",
       "      <td>time</td>\n",
       "      <td>3975.6</td>\n",
       "      <td>way</td>\n",
       "      <td>1444.7</td>\n",
       "      <td>o</td>\n",
       "      <td>613.1</td>\n",
       "      <td>lo</td>\n",
       "      <td>1117.1</td>\n",
       "      <td>series</td>\n",
       "      <td>4643.6</td>\n",
       "      <td>years</td>\n",
       "      <td>1783.4</td>\n",
       "      <td>girls</td>\n",
       "      <td>601.1</td>\n",
       "      <td>years</td>\n",
       "      <td>1326.6</td>\n",
       "      <td>way</td>\n",
       "      <td>3876.2</td>\n",
       "      <td>library</td>\n",
       "      <td>1014.3</td>\n",
       "    </tr>\n",
       "    <tr>\n",
       "      <th>9</th>\n",
       "      <td>plot</td>\n",
       "      <td>3636.7</td>\n",
       "      <td>american</td>\n",
       "      <td>1430.2</td>\n",
       "      <td>se</td>\n",
       "      <td>576.4</td>\n",
       "      <td>los</td>\n",
       "      <td>1100.8</td>\n",
       "      <td>going</td>\n",
       "      <td>4509.0</td>\n",
       "      <td>home</td>\n",
       "      <td>1740.6</td>\n",
       "      <td>children</td>\n",
       "      <td>565.3</td>\n",
       "      <td>parents</td>\n",
       "      <td>1310.1</td>\n",
       "      <td>ing</td>\n",
       "      <td>3764.5</td>\n",
       "      <td>ing</td>\n",
       "      <td>1005.0</td>\n",
       "    </tr>\n",
       "  </tbody>\n",
       "</table>\n",
       "</div>"
      ],
      "text/plain": [
       "  Topic 0 words Topic 0 weights Topic 1 words Topic 1 weights Topic 2 words  \\\n",
       "0    characters          8598.7        people          4568.7             e   \n",
       "1        really          6516.8            hi          3124.6            di   \n",
       "2          just          5613.0           war          2881.9           che   \n",
       "3             s          5250.8         women          2535.8            la   \n",
       "4         novel          4409.8         world          2266.3           non   \n",
       "5        series          4385.5          life          1923.2            je   \n",
       "6          good          4250.6          time          1611.6            si   \n",
       "7     character          4097.1           men          1512.3            il   \n",
       "8          time          3975.6           way          1444.7             o   \n",
       "9          plot          3636.7      american          1430.2            se   \n",
       "\n",
       "  Topic 2 weights Topic 3 words Topic 3 weights Topic 4 words Topic 4 weights  \\\n",
       "0          1789.8           que          5952.1          just         12691.3   \n",
       "1          1323.8             y          3685.7            im          8879.6   \n",
       "2           920.1            la          3340.5          love          7865.3   \n",
       "3           905.5            en          2641.1        really          7358.3   \n",
       "4           721.0            el          1980.0          know          6455.8   \n",
       "5           705.3            es          1743.6             s          5066.5   \n",
       "6           684.9           una          1270.7         loved          4941.2   \n",
       "7           638.1            se          1237.8    characters          4901.5   \n",
       "8           613.1            lo          1117.1        series          4643.6   \n",
       "9           576.4           los          1100.8         going          4509.0   \n",
       "\n",
       "  Topic 5 words Topic 5 weights Topic 6 words Topic 6 weights Topic 7 words  \\\n",
       "0        family          4035.3           die          1322.9          life   \n",
       "1         novel          3421.1           und          1069.1        family   \n",
       "2          love          3186.4         words          1007.9          time   \n",
       "3          life          2962.8       stories           803.2         world   \n",
       "4          time          2789.1          rose           761.1        school   \n",
       "5    characters          2412.0         world           738.5        people   \n",
       "6          just          2058.1           der           708.1         human   \n",
       "7         woman          2001.5         magic           615.6           new   \n",
       "8         years          1783.4         girls           601.1         years   \n",
       "9          home          1740.6      children           565.3       parents   \n",
       "\n",
       "  Topic 7 weights Topic 8 words Topic 8 weights Topic 9 words Topic 9 weights  \n",
       "0          3161.5          love          9893.5          life          2830.7  \n",
       "1          2294.8          just          6929.6        memoir          1432.4  \n",
       "2          2138.6        really          6565.6         trump          1374.5  \n",
       "3          1998.8         loved          4760.5           did          1258.5  \n",
       "4          1644.1         think          4499.9          time          1220.0  \n",
       "5          1510.9            im          4094.2         years          1196.8  \n",
       "6          1464.4          life          4056.1           man          1152.1  \n",
       "7          1369.0             s          4040.2        people          1078.4  \n",
       "8          1326.6           way          3876.2       library          1014.3  \n",
       "9          1310.1           ing          3764.5           ing          1005.0  "
      ]
     },
     "execution_count": 23,
     "metadata": {},
     "output_type": "execute_result"
    }
   ],
   "source": [
    "no_top_words = 10\n",
    "display_topics(model, feature_names, no_top_words)"
   ]
  },
  {
   "cell_type": "markdown",
   "metadata": {},
   "source": [
    "1. Topic 0: characters, really, just, s, novel, series, character, time, plot\n",
    "2. Topic 1: people, hi, war, women, world, life, time, men, way, american\n",
    "3. Topic 2: e, di che, la, non, je si, il, o, se\n",
    "4. Topic 3: que, y, la, en, el, es, una, se, lo, los\n",
    "5. Topic 4: just, im, love, really, know, s, loved, characters, series, going\n",
    "6. Topic 5: family, novel, love, life, time, characters, just, woman, years, home\n",
    "7. Topic 6: die, und, words, stories, rose, world, der, magic, girls, childern\n",
    "8. Topic 7: life, family, time, world, school, people, human, new, years, parents\n",
    "9. Topic 8: love, just, really, loved, think, im, life, s, way, ing\n",
    "10. Topic 9: life, memoir, trump, did, time, years, man, people, library, ing"
   ]
  },
  {
   "cell_type": "markdown",
   "metadata": {},
   "source": [
    "Here we can see the most popular paternas that the algorithm lists based on the analysis of opinion content."
   ]
  },
  {
   "cell_type": "markdown",
   "metadata": {},
   "source": [
    "Topic modeling II"
   ]
  },
  {
   "cell_type": "code",
   "execution_count": 24,
   "metadata": {},
   "outputs": [
    {
     "data": {
      "text/plain": [
       "<51000x14976 sparse matrix of type '<class 'numpy.int64'>'\n",
       "\twith 3579749 stored elements in Compressed Sparse Row format>"
      ]
     },
     "execution_count": 24,
     "metadata": {},
     "output_type": "execute_result"
    }
   ],
   "source": [
    "vec_2 = vectorizer.fit_transform(dane.wektor.astype('U'))\n",
    "vec_2"
   ]
  },
  {
   "cell_type": "code",
   "execution_count": 25,
   "metadata": {},
   "outputs": [
    {
     "data": {
      "text/plain": [
       "LatentDirichletAllocation(n_components=5, random_state=42)"
      ]
     },
     "execution_count": 25,
     "metadata": {},
     "output_type": "execute_result"
    }
   ],
   "source": [
    "LDA = LatentDirichletAllocation(n_components=5, random_state=42)\n",
    "LDA.fit(vec_2)"
   ]
  },
  {
   "cell_type": "code",
   "execution_count": 26,
   "metadata": {},
   "outputs": [
    {
     "name": "stdout",
     "output_type": "stream",
     "text": [
      "estar\n",
      "appreciating\n",
      "jumpin\n",
      "copies\n",
      "lector\n",
      "cleverness\n",
      "shrink\n",
      "oxford\n",
      "circling\n",
      "hatred\n"
     ]
    }
   ],
   "source": [
    "for i in range(10):\n",
    "    random_id = random.randint(0,len(vectorizer.get_feature_names()))\n",
    "    print(vectorizer.get_feature_names()[random_id])"
   ]
  },
  {
   "cell_type": "code",
   "execution_count": 27,
   "metadata": {},
   "outputs": [],
   "source": [
    "first_topic = LDA.components_[0]\n",
    "top_topic_words = first_topic.argsort()[-10:]"
   ]
  },
  {
   "cell_type": "code",
   "execution_count": 28,
   "metadata": {},
   "outputs": [
    {
     "name": "stdout",
     "output_type": "stream",
     "text": [
      "Top 10 words for topic #0:\n",
      "['time', 'heart', 's', 'really', 'characters', 'know', 'im', 'loved', 'just', 'love']\n",
      "\n",
      "\n",
      "Top 10 words for topic #1:\n",
      "['novel', 'women', 'way', 'years', 'world', 'hi', 'family', 'time', 'people', 'life']\n",
      "\n",
      "\n",
      "Top 10 words for topic #2:\n",
      "['good', 'ing', 'love', 'novel', 'time', 's', 'really', 'series', 'just', 'characters']\n",
      "\n",
      "\n",
      "Top 10 words for topic #3:\n",
      "['una', 'o', 'se', 'es', 'el', 'e', 'en', 'y', 'la', 'que']\n",
      "\n",
      "\n",
      "Top 10 words for topic #4:\n",
      "['way', 's', 'know', 'love', 'good', 'people', 'think', 'im', 'really', 'just']\n",
      "\n",
      "\n"
     ]
    }
   ],
   "source": [
    "# 10 words with highest probabilities for all the five topics\n",
    "for i,topic in enumerate(LDA.components_):\n",
    "    print(f'Top 10 words for topic #{i}:')\n",
    "    print([vectorizer.get_feature_names()[i] for i in topic.argsort()[-10:]])\n",
    "    print('\\n')"
   ]
  },
  {
   "cell_type": "markdown",
   "metadata": {},
   "source": [
    "1. Topic 0: 'time', 'heart', 's', 'really', 'characters', 'know', 'im', 'loved', 'just', 'love'\n",
    "2. Topic 1: 'novel', 'women', 'way', 'years', 'world', 'hi', 'family', 'time', 'people', 'life'\n",
    "3. Topic 2: 'good', 'ing', 'love', 'novel', 'time', 's', 'really', 'series', 'just', 'characters'\n",
    "4. Topic 3: 'una', 'o', 'se', 'es', 'el', 'e', 'en', 'y', 'la', 'que'\n",
    "5. Topic 4: 'way', 's', 'know', 'love', 'good', 'people', 'think', 'im', 'really', 'just'"
   ]
  },
  {
   "cell_type": "code",
   "execution_count": 29,
   "metadata": {},
   "outputs": [],
   "source": [
    "topic_values = LDA.transform(vec_2)\n",
    "dane['Topic'] = topic_values.argmax(axis=1)"
   ]
  },
  {
   "cell_type": "markdown",
   "metadata": {},
   "source": [
    "Topic modeling III"
   ]
  },
  {
   "cell_type": "code",
   "execution_count": 30,
   "metadata": {},
   "outputs": [
    {
     "data": {
      "text/plain": [
       "NMF(n_components=5, random_state=42)"
      ]
     },
     "execution_count": 30,
     "metadata": {},
     "output_type": "execute_result"
    }
   ],
   "source": [
    "nmf = NMF(n_components=5, random_state=42)\n",
    "nmf.fit(vec_2)"
   ]
  },
  {
   "cell_type": "code",
   "execution_count": 31,
   "metadata": {},
   "outputs": [],
   "source": [
    "first_topic = nmf.components_[0]\n",
    "top_topic_words = first_topic.argsort()[-5:]"
   ]
  },
  {
   "cell_type": "code",
   "execution_count": 32,
   "metadata": {},
   "outputs": [],
   "source": [
    "topic_values = nmf.transform(vec_2)\n",
    "dane['Topic_2'] = topic_values.argmax(axis=1)"
   ]
  },
  {
   "cell_type": "markdown",
   "metadata": {},
   "source": [
    "We can compare the results obtained with the two methods"
   ]
  },
  {
   "cell_type": "code",
   "execution_count": 33,
   "metadata": {},
   "outputs": [
    {
     "data": {
      "text/html": [
       "<div>\n",
       "<style scoped>\n",
       "    .dataframe tbody tr th:only-of-type {\n",
       "        vertical-align: middle;\n",
       "    }\n",
       "\n",
       "    .dataframe tbody tr th {\n",
       "        vertical-align: top;\n",
       "    }\n",
       "\n",
       "    .dataframe thead th {\n",
       "        text-align: right;\n",
       "    }\n",
       "</style>\n",
       "<table border=\"1\" class=\"dataframe\">\n",
       "  <thead>\n",
       "    <tr style=\"text-align: right;\">\n",
       "      <th></th>\n",
       "      <th>Topic</th>\n",
       "      <th>Topic_2</th>\n",
       "    </tr>\n",
       "  </thead>\n",
       "  <tbody>\n",
       "    <tr>\n",
       "      <th>0</th>\n",
       "      <td>1</td>\n",
       "      <td>1</td>\n",
       "    </tr>\n",
       "    <tr>\n",
       "      <th>1</th>\n",
       "      <td>1</td>\n",
       "      <td>1</td>\n",
       "    </tr>\n",
       "    <tr>\n",
       "      <th>2</th>\n",
       "      <td>1</td>\n",
       "      <td>1</td>\n",
       "    </tr>\n",
       "    <tr>\n",
       "      <th>3</th>\n",
       "      <td>1</td>\n",
       "      <td>1</td>\n",
       "    </tr>\n",
       "    <tr>\n",
       "      <th>4</th>\n",
       "      <td>4</td>\n",
       "      <td>1</td>\n",
       "    </tr>\n",
       "    <tr>\n",
       "      <th>...</th>\n",
       "      <td>...</td>\n",
       "      <td>...</td>\n",
       "    </tr>\n",
       "    <tr>\n",
       "      <th>50995</th>\n",
       "      <td>0</td>\n",
       "      <td>1</td>\n",
       "    </tr>\n",
       "    <tr>\n",
       "      <th>50996</th>\n",
       "      <td>0</td>\n",
       "      <td>1</td>\n",
       "    </tr>\n",
       "    <tr>\n",
       "      <th>50997</th>\n",
       "      <td>4</td>\n",
       "      <td>1</td>\n",
       "    </tr>\n",
       "    <tr>\n",
       "      <th>50998</th>\n",
       "      <td>0</td>\n",
       "      <td>1</td>\n",
       "    </tr>\n",
       "    <tr>\n",
       "      <th>50999</th>\n",
       "      <td>2</td>\n",
       "      <td>1</td>\n",
       "    </tr>\n",
       "  </tbody>\n",
       "</table>\n",
       "<p>51000 rows × 2 columns</p>\n",
       "</div>"
      ],
      "text/plain": [
       "       Topic  Topic_2\n",
       "0          1        1\n",
       "1          1        1\n",
       "2          1        1\n",
       "3          1        1\n",
       "4          4        1\n",
       "...      ...      ...\n",
       "50995      0        1\n",
       "50996      0        1\n",
       "50997      4        1\n",
       "50998      0        1\n",
       "50999      2        1\n",
       "\n",
       "[51000 rows x 2 columns]"
      ]
     },
     "execution_count": 33,
     "metadata": {},
     "output_type": "execute_result"
    }
   ],
   "source": [
    "dane[['Topic', 'Topic_2']]"
   ]
  },
  {
   "cell_type": "code",
   "execution_count": 34,
   "metadata": {},
   "outputs": [],
   "source": [
    "cols = ['Topic', 'Topic_2']\n",
    "dane['combined'] = dane[cols].apply(lambda row: '_'.join(row.values.astype(str)), axis=1)"
   ]
  },
  {
   "cell_type": "code",
   "execution_count": 49,
   "metadata": {},
   "outputs": [
    {
     "data": {
      "text/plain": [
       "combined\n",
       "0_0      321\n",
       "0_1     5570\n",
       "0_2      112\n",
       "0_3     1468\n",
       "0_4       44\n",
       "1_0        4\n",
       "1_1    12931\n",
       "1_2       20\n",
       "1_3     1373\n",
       "1_4        5\n",
       "2_0        4\n",
       "2_1    10053\n",
       "2_2       62\n",
       "2_3      999\n",
       "2_4       16\n",
       "3_0        1\n",
       "3_1       82\n",
       "3_2     1121\n",
       "3_3        7\n",
       "3_4        2\n",
       "4_0       45\n",
       "4_1    14021\n",
       "4_2       15\n",
       "4_3     1628\n",
       "4_4       46\n",
       "Name: N, dtype: int64"
      ]
     },
     "execution_count": 49,
     "metadata": {},
     "output_type": "execute_result"
    }
   ],
   "source": [
    "dane.groupby('combined')['combined'].count().rename(\"N\")"
   ]
  },
  {
   "cell_type": "markdown",
   "metadata": {},
   "source": [
    "Most often for the opinion, for which in the first approach we determined the topic No. 0, the second method indicated the topic No. 1. The list of words with which the given topics are determined is very similar. Topic #1 overlaps with topic #1 in the case of the second approach. Topic #2 with topic #1 from the second approach. Topic #3 also overlaps most closely with topic #2 from the second approach. And topic #4 from the first approach is most similar to topics #1 and #3 from the second approach. In summary, both methods yielded a similar set of topics."
   ]
  },
  {
   "cell_type": "code",
   "execution_count": 36,
   "metadata": {},
   "outputs": [
    {
     "data": {
      "image/png": "[encoded data removed]",
      "text/plain": [
       "<PIL.Image.Image image mode=RGB size=400x200 at 0x7FF1995A1A00>"
      ]
     },
     "execution_count": 36,
     "metadata": {},
     "output_type": "execute_result"
    }
   ],
   "source": [
    "long_string = ','.join(list(dane.wektor.values))\n",
    "wordcloud = WordCloud(background_color=\"white\", max_words=500, contour_width=3, contour_color='steelblue')# Generate a word cloud\n",
    "wordcloud.generate(long_string)# Visualize the word cloud\n",
    "wordcloud.to_image()"
   ]
  },
  {
   "cell_type": "markdown",
   "metadata": {},
   "source": [
    "Let's see how a book review looks depending on the subject of the book."
   ]
  },
  {
   "cell_type": "code",
   "execution_count": 37,
   "metadata": {},
   "outputs": [
    {
     "data": {
      "text/plain": [
       "Topic  opinia\n",
       "0      neg       12.630494\n",
       "       pos       87.369506\n",
       "1      neg        1.709695\n",
       "       pos       98.290305\n",
       "2      neg        8.244704\n",
       "       pos       91.755296\n",
       "3      neg       24.698311\n",
       "       pos       75.301689\n",
       "4      neg       13.396027\n",
       "       pos       86.603973\n",
       "Name: N, dtype: float64"
      ]
     },
     "execution_count": 37,
     "metadata": {},
     "output_type": "execute_result"
    }
   ],
   "source": [
    "cnt = dane.groupby(['Topic','opinia'])['Topic'].count().rename(\"N\")\n",
    "cnt.groupby(level=0).apply(lambda x: 100 * x / float(x.sum()))"
   ]
  },
  {
   "cell_type": "markdown",
   "metadata": {},
   "source": [
    "Topic 1 has the highest percentage of positive opinions. 98% of opinions for this theme are positive. It is a topic described by words: novel', 'women', 'way', 'years', 'world', 'hi', 'family', 'time', 'people', 'life'. We can therefore conclude that books relating to life themes or family books have a positive reaction."
   ]
  },
  {
   "cell_type": "markdown",
   "metadata": {},
   "source": [
    "There are many benefits to understanding the text. Understanding what factors determine whether a book review is positive or negative can be important information for both authors and book publishers. Based on the data collected, we know what type of book it is, the gender of the author, the publisher, or the number of pages. The content of the review allows you to find additional as well as valuable information. On the basis of sentiment analysis it is possible to determine whether the review is positive or negative and to find patterns which allow modelling the subject of the book."
   ]
  },
  {
   "cell_type": "code",
   "execution_count": 38,
   "metadata": {},
   "outputs": [],
   "source": [
    "dane = pd.get_dummies(dane, columns=['rodzaj', 'Topic', 'plec_recenzenta'], drop_first=True)"
   ]
  },
  {
   "cell_type": "code",
   "execution_count": 43,
   "metadata": {},
   "outputs": [],
   "source": [
    "dane = dane.fillna(value=np.nan)\n",
    "dane = dane.replace(to_replace='None', value=np.nan)\n",
    "dane= dane.dropna(subset=['cena', 'liczba nagród', 'stars', 'rodzaj_best_of_the_best', 'rodzaj_biography',\n",
    "       'rodzaj_childrens', 'rodzaj_cookbooks', 'rodzaj_debut_author',\n",
    "       'rodzaj_fantasy', 'rodzaj_fiction', 'rodzaj_historical_fiction',\n",
    "       'rodzaj_horror', 'rodzaj_humor', 'rodzaj_nonfiction', 'rodzaj_novels',\n",
    "       'rodzaj_picture_books', 'rodzaj_poetry', 'rodzaj_romance',\n",
    "       'rodzaj_science_fiction', 'rodzaj_science_technology',\n",
    "       'rodzaj_thriller', 'rodzaj_young_adult_fiction', 'Topic_1', 'Topic_2',\n",
    "       'Topic_3', 'Topic_4', 'plec_recenzenta_male'])\n",
    "dane = dane.reset_index()"
   ]
  },
  {
   "cell_type": "code",
   "execution_count": 44,
   "metadata": {},
   "outputs": [
    {
     "data": {
      "text/html": [
       "<div>\n",
       "<style scoped>\n",
       "    .dataframe tbody tr th:only-of-type {\n",
       "        vertical-align: middle;\n",
       "    }\n",
       "\n",
       "    .dataframe tbody tr th {\n",
       "        vertical-align: top;\n",
       "    }\n",
       "\n",
       "    .dataframe thead th {\n",
       "        text-align: right;\n",
       "    }\n",
       "</style>\n",
       "<table border=\"1\" class=\"dataframe\">\n",
       "  <thead>\n",
       "    <tr style=\"text-align: right;\">\n",
       "      <th></th>\n",
       "      <th>index</th>\n",
       "      <th>Unnamed: 0</th>\n",
       "      <th>ASIN</th>\n",
       "      <th>autor</th>\n",
       "      <th>bohaterzy</th>\n",
       "      <th>cena</th>\n",
       "      <th>format</th>\n",
       "      <th>główny bohater</th>\n",
       "      <th>główny_bohater</th>\n",
       "      <th>kraj</th>\n",
       "      <th>...</th>\n",
       "      <th>rodzaj_romance</th>\n",
       "      <th>rodzaj_science_fiction</th>\n",
       "      <th>rodzaj_science_technology</th>\n",
       "      <th>rodzaj_thriller</th>\n",
       "      <th>rodzaj_young_adult_fiction</th>\n",
       "      <th>Topic_1</th>\n",
       "      <th>Topic_2</th>\n",
       "      <th>Topic_3</th>\n",
       "      <th>Topic_4</th>\n",
       "      <th>plec_recenzenta_male</th>\n",
       "    </tr>\n",
       "  </thead>\n",
       "  <tbody>\n",
       "    <tr>\n",
       "      <th>0</th>\n",
       "      <td>0</td>\n",
       "      <td>0</td>\n",
       "      <td>0399590501</td>\n",
       "      <td>Tara Westover</td>\n",
       "      <td>NaN</td>\n",
       "      <td>28.0</td>\n",
       "      <td>Hardcover</td>\n",
       "      <td>NaN</td>\n",
       "      <td>NaN</td>\n",
       "      <td>United States</td>\n",
       "      <td>...</td>\n",
       "      <td>0</td>\n",
       "      <td>0</td>\n",
       "      <td>0</td>\n",
       "      <td>0</td>\n",
       "      <td>0</td>\n",
       "      <td>1</td>\n",
       "      <td>0</td>\n",
       "      <td>0</td>\n",
       "      <td>0</td>\n",
       "      <td>1</td>\n",
       "    </tr>\n",
       "    <tr>\n",
       "      <th>1</th>\n",
       "      <td>1</td>\n",
       "      <td>1</td>\n",
       "      <td>0399590501</td>\n",
       "      <td>Tara Westover</td>\n",
       "      <td>NaN</td>\n",
       "      <td>28.0</td>\n",
       "      <td>Hardcover</td>\n",
       "      <td>NaN</td>\n",
       "      <td>NaN</td>\n",
       "      <td>United States</td>\n",
       "      <td>...</td>\n",
       "      <td>0</td>\n",
       "      <td>0</td>\n",
       "      <td>0</td>\n",
       "      <td>0</td>\n",
       "      <td>0</td>\n",
       "      <td>1</td>\n",
       "      <td>0</td>\n",
       "      <td>0</td>\n",
       "      <td>0</td>\n",
       "      <td>0</td>\n",
       "    </tr>\n",
       "    <tr>\n",
       "      <th>2</th>\n",
       "      <td>2</td>\n",
       "      <td>2</td>\n",
       "      <td>0399590501</td>\n",
       "      <td>Tara Westover</td>\n",
       "      <td>NaN</td>\n",
       "      <td>28.0</td>\n",
       "      <td>Hardcover</td>\n",
       "      <td>NaN</td>\n",
       "      <td>NaN</td>\n",
       "      <td>United States</td>\n",
       "      <td>...</td>\n",
       "      <td>0</td>\n",
       "      <td>0</td>\n",
       "      <td>0</td>\n",
       "      <td>0</td>\n",
       "      <td>0</td>\n",
       "      <td>1</td>\n",
       "      <td>0</td>\n",
       "      <td>0</td>\n",
       "      <td>0</td>\n",
       "      <td>0</td>\n",
       "    </tr>\n",
       "    <tr>\n",
       "      <th>3</th>\n",
       "      <td>3</td>\n",
       "      <td>3</td>\n",
       "      <td>0399590501</td>\n",
       "      <td>Tara Westover</td>\n",
       "      <td>NaN</td>\n",
       "      <td>28.0</td>\n",
       "      <td>Hardcover</td>\n",
       "      <td>NaN</td>\n",
       "      <td>NaN</td>\n",
       "      <td>United States</td>\n",
       "      <td>...</td>\n",
       "      <td>0</td>\n",
       "      <td>0</td>\n",
       "      <td>0</td>\n",
       "      <td>0</td>\n",
       "      <td>0</td>\n",
       "      <td>1</td>\n",
       "      <td>0</td>\n",
       "      <td>0</td>\n",
       "      <td>0</td>\n",
       "      <td>0</td>\n",
       "    </tr>\n",
       "    <tr>\n",
       "      <th>4</th>\n",
       "      <td>4</td>\n",
       "      <td>4</td>\n",
       "      <td>0399590501</td>\n",
       "      <td>Tara Westover</td>\n",
       "      <td>NaN</td>\n",
       "      <td>28.0</td>\n",
       "      <td>Hardcover</td>\n",
       "      <td>NaN</td>\n",
       "      <td>NaN</td>\n",
       "      <td>United States</td>\n",
       "      <td>...</td>\n",
       "      <td>0</td>\n",
       "      <td>0</td>\n",
       "      <td>0</td>\n",
       "      <td>0</td>\n",
       "      <td>0</td>\n",
       "      <td>0</td>\n",
       "      <td>0</td>\n",
       "      <td>0</td>\n",
       "      <td>1</td>\n",
       "      <td>0</td>\n",
       "    </tr>\n",
       "  </tbody>\n",
       "</table>\n",
       "<p>5 rows × 54 columns</p>\n",
       "</div>"
      ],
      "text/plain": [
       "   index  Unnamed: 0        ASIN          autor bohaterzy  cena     format  \\\n",
       "0      0           0  0399590501  Tara Westover       NaN  28.0  Hardcover   \n",
       "1      1           1  0399590501  Tara Westover       NaN  28.0  Hardcover   \n",
       "2      2           2  0399590501  Tara Westover       NaN  28.0  Hardcover   \n",
       "3      3           3  0399590501  Tara Westover       NaN  28.0  Hardcover   \n",
       "4      4           4  0399590501  Tara Westover       NaN  28.0  Hardcover   \n",
       "\n",
       "  główny bohater  główny_bohater           kraj  ...  rodzaj_romance  \\\n",
       "0            NaN             NaN  United States  ...               0   \n",
       "1            NaN             NaN  United States  ...               0   \n",
       "2            NaN             NaN  United States  ...               0   \n",
       "3            NaN             NaN  United States  ...               0   \n",
       "4            NaN             NaN  United States  ...               0   \n",
       "\n",
       "   rodzaj_science_fiction  rodzaj_science_technology rodzaj_thriller  \\\n",
       "0                       0                          0               0   \n",
       "1                       0                          0               0   \n",
       "2                       0                          0               0   \n",
       "3                       0                          0               0   \n",
       "4                       0                          0               0   \n",
       "\n",
       "  rodzaj_young_adult_fiction Topic_1 Topic_2 Topic_3 Topic_4  \\\n",
       "0                          0       1       0       0       0   \n",
       "1                          0       1       0       0       0   \n",
       "2                          0       1       0       0       0   \n",
       "3                          0       1       0       0       0   \n",
       "4                          0       0       0       0       1   \n",
       "\n",
       "   plec_recenzenta_male  \n",
       "0                     1  \n",
       "1                     0  \n",
       "2                     0  \n",
       "3                     0  \n",
       "4                     0  \n",
       "\n",
       "[5 rows x 54 columns]"
      ]
     },
     "execution_count": 44,
     "metadata": {},
     "output_type": "execute_result"
    }
   ],
   "source": [
    "dane.head()"
   ]
  },
  {
   "cell_type": "code",
   "execution_count": 45,
   "metadata": {},
   "outputs": [],
   "source": [
    "split = StratifiedShuffleSplit(n_splits=5, test_size=0.3, random_state=123)\n",
    "for train_index, test_index in split.split(dane,dane[\"opinia\"]): \n",
    "    strat_train = dane.reindex(train_index)\n",
    "    strat_test = dane.reindex(test_index)"
   ]
  },
  {
   "cell_type": "code",
   "execution_count": 46,
   "metadata": {},
   "outputs": [],
   "source": [
    "X_train = strat_train[['cena', 'liczba nagród', 'stars', 'rodzaj_best_of_the_best', 'rodzaj_biography',\n",
    "       'rodzaj_childrens', 'rodzaj_cookbooks', 'rodzaj_debut_author',\n",
    "       'rodzaj_fantasy', 'rodzaj_fiction', 'rodzaj_historical_fiction',\n",
    "       'rodzaj_horror', 'rodzaj_humor', 'rodzaj_nonfiction', 'rodzaj_novels',\n",
    "       'rodzaj_picture_books', 'rodzaj_poetry', 'rodzaj_romance',\n",
    "       'rodzaj_science_fiction', 'rodzaj_science_technology',\n",
    "       'rodzaj_thriller', 'rodzaj_young_adult_fiction', 'Topic_1', 'Topic_2',\n",
    "       'Topic_3', 'Topic_4', 'plec_recenzenta_male']]\n",
    "y_train = strat_train[\"opinia\"]\n",
    "X_test = strat_test[['cena', 'liczba nagród', 'stars', 'rodzaj_best_of_the_best', 'rodzaj_biography',\n",
    "       'rodzaj_childrens', 'rodzaj_cookbooks', 'rodzaj_debut_author',\n",
    "       'rodzaj_fantasy', 'rodzaj_fiction', 'rodzaj_historical_fiction',\n",
    "       'rodzaj_horror', 'rodzaj_humor', 'rodzaj_nonfiction', 'rodzaj_novels',\n",
    "       'rodzaj_picture_books', 'rodzaj_poetry', 'rodzaj_romance',\n",
    "       'rodzaj_science_fiction', 'rodzaj_science_technology',\n",
    "       'rodzaj_thriller', 'rodzaj_young_adult_fiction', 'Topic_1', 'Topic_2',\n",
    "       'Topic_3', 'Topic_4', 'plec_recenzenta_male']]\n",
    "y_test = strat_test[\"opinia\"]"
   ]
  },
  {
   "cell_type": "code",
   "execution_count": 48,
   "metadata": {},
   "outputs": [
    {
     "name": "stderr",
     "output_type": "stream",
     "text": [
      "/opt/anaconda3/lib/python3.8/site-packages/sklearn/linear_model/_logistic.py:762: ConvergenceWarning: lbfgs failed to converge (status=1):\n",
      "STOP: TOTAL NO. of ITERATIONS REACHED LIMIT.\n",
      "\n",
      "Increase the number of iterations (max_iter) or scale the data as shown in:\n",
      "    https://scikit-learn.org/stable/modules/preprocessing.html\n",
      "Please also refer to the documentation for alternative solver options:\n",
      "    https://scikit-learn.org/stable/modules/linear_model.html#logistic-regression\n",
      "  n_iter_i = _check_optimize_result(\n"
     ]
    },
    {
     "data": {
      "text/plain": [
       "array([[-0.00915808,  0.01199859,  0.37539723,  0.11470756,  0.09316148,\n",
       "         0.28248141,  0.0560925 ,  0.21485986,  0.1337726 ,  0.20766684,\n",
       "         0.45989894,  0.1837231 , -0.05923467,  0.00677524, -0.49044444,\n",
       "        -0.33421661, -0.2440024 , -0.16615204,  0.09728832, -0.58670038,\n",
       "         0.21035723,  0.01626575,  2.12273697,  0.1619917 ,  0.44265132,\n",
       "        -0.82883638,  0.07073549,  0.0730169 ]])"
      ]
     },
     "execution_count": 48,
     "metadata": {},
     "output_type": "execute_result"
    }
   ],
   "source": [
    "from sklearn.linear_model import LogisticRegression\n",
    "logReg = LogisticRegression()\n",
    "logReg.fit(X_train, y_train)\n",
    "predictions = logReg.predict(X_test)\n",
    "score = logReg.score(X_test, y_test)\n",
    "logReg.coef_"
   ]
  },
  {
   "cell_type": "markdown",
   "metadata": {},
   "source": [
    "SUMMARY\n",
    "This notebook shows how much information can be extracted from a text. By having a small amount of information regarding the book itself, but having reviews of the book, we can conduct analyses that achieve a wide range of information. Based on sentiment analysis, we are able to determine whether a review is positive or negative. We can find the most common patterns, determine the theme of the content, determine the frequency of each phrase, and look for correlations that would determine what might have influenced a review to be positive or negative."
   ]
  },
  {
   "cell_type": "markdown",
   "metadata": {},
   "source": []
  }
 ],
 "metadata": {
  "kernelspec": {
   "display_name": "Python 3",
   "language": "python",
   "name": "python3"
  },
  "language_info": {
   "codemirror_mode": {
    "name": "ipython",
    "version": 3
   },
   "file_extension": ".py",
   "mimetype": "text/x-python",
   "name": "python",
   "nbconvert_exporter": "python",
   "pygments_lexer": "ipython3",
   "version": "3.8.3"
  }
 },
 "nbformat": 4,
 "nbformat_minor": 4
}
